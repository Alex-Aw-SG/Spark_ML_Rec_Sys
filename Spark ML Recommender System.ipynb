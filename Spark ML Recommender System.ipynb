{
 "cells": [
  {
   "cell_type": "markdown",
   "metadata": {},
   "source": [
    "Author : Alex Aw  \n",
    "Last Edit : 22 Mar 2022  \n",
    "Reference: https://schaper.io/2017/10/building-a-recommendation-engine-with-spark-and-emr/"
   ]
  },
  {
   "cell_type": "markdown",
   "metadata": {},
   "source": [
    "## PySpark Script\n",
    "- This script was sandboxed on Google Colab with PySpark. \n",
    "- ALS recommender system built evaluated with RMSE\n",
    "- Preparing script for AWS EMR"
   ]
  },
  {
   "cell_type": "code",
   "execution_count": 1,
   "metadata": {
    "colab": {
     "base_uri": "https://localhost:8080/"
    },
    "executionInfo": {
     "elapsed": 50633,
     "status": "ok",
     "timestamp": 1647927795192,
     "user": {
      "displayName": "Alex Aw",
      "photoUrl": "https://lh3.googleusercontent.com/a/default-user=s64",
      "userId": "00431645849901702197"
     },
     "user_tz": -480
    },
    "id": "2cRHLT7ImQeo",
    "outputId": "5708d1d6-52dc-4506-d26a-50d6b65395db"
   },
   "outputs": [
    {
     "name": "stdout",
     "output_type": "stream",
     "text": [
      "Collecting pyspark\n",
      "  Downloading pyspark-3.2.1.tar.gz (281.4 MB)\n",
      "\u001B[K     |████████████████████████████████| 281.4 MB 35 kB/s \n",
      "\u001B[?25hCollecting py4j==0.10.9.3\n",
      "  Downloading py4j-0.10.9.3-py2.py3-none-any.whl (198 kB)\n",
      "\u001B[K     |████████████████████████████████| 198 kB 52.0 MB/s \n",
      "\u001B[?25hBuilding wheels for collected packages: pyspark\n",
      "  Building wheel for pyspark (setup.py) ... \u001B[?25l\u001B[?25hdone\n",
      "  Created wheel for pyspark: filename=pyspark-3.2.1-py2.py3-none-any.whl size=281853642 sha256=b7a52ea9263bb850450dae0042e7441642d3904e633a962574baea501d9fa4f9\n",
      "  Stored in directory: /root/.cache/pip/wheels/9f/f5/07/7cd8017084dce4e93e84e92efd1e1d5334db05f2e83bcef74f\n",
      "Successfully built pyspark\n",
      "Installing collected packages: py4j, pyspark\n",
      "Successfully installed py4j-0.10.9.3 pyspark-3.2.1\n"
     ]
    }
   ],
   "source": [
    "pip install pyspark"
   ]
  },
  {
   "cell_type": "code",
   "execution_count": 2,
   "metadata": {
    "colab": {
     "base_uri": "https://localhost:8080/"
    },
    "executionInfo": {
     "elapsed": 15490,
     "status": "ok",
     "timestamp": 1647927813002,
     "user": {
      "displayName": "Alex Aw",
      "photoUrl": "https://lh3.googleusercontent.com/a/default-user=s64",
      "userId": "00431645849901702197"
     },
     "user_tz": -480
    },
    "id": "m7MqH2BqM6Ig",
    "outputId": "8048c1bf-9346-427c-e219-938758b53e49"
   },
   "outputs": [
    {
     "name": "stdout",
     "output_type": "stream",
     "text": [
      "Mounted at /content/drive\n"
     ]
    }
   ],
   "source": [
    "from google.colab import drive\n",
    "drive.mount('/content/drive')"
   ]
  },
  {
   "cell_type": "code",
   "execution_count": 3,
   "metadata": {
    "executionInfo": {
     "elapsed": 782,
     "status": "ok",
     "timestamp": 1647927834450,
     "user": {
      "displayName": "Alex Aw",
      "photoUrl": "https://lh3.googleusercontent.com/a/default-user=s64",
      "userId": "00431645849901702197"
     },
     "user_tz": -480
    },
    "id": "_doH8CkVmezt"
   },
   "outputs": [],
   "source": [
    "from pyspark.sql import Row\n",
    "from pyspark.sql import SparkSession\n",
    "from pyspark.sql import functions as F\n",
    "from pyspark.sql.functions import *\n",
    "from pyspark.sql.functions import explode\n",
    "from pyspark.ml.recommendation import ALS\n",
    "from pyspark.ml.evaluation import RegressionEvaluator\n",
    "from pyspark.ml import Pipeline\n",
    "from pyspark.ml.feature import StringIndexer\n",
    "from pyspark.ml.feature import IndexToString\n",
    "import numpy as np\n",
    "import pandas as pd"
   ]
  },
  {
   "cell_type": "markdown",
   "metadata": {
    "id": "iu1AfFyJVuo2"
   },
   "source": [
    "#### Start Spark"
   ]
  },
  {
   "cell_type": "code",
   "execution_count": 4,
   "metadata": {
    "colab": {
     "base_uri": "https://localhost:8080/",
     "height": 219
    },
    "executionInfo": {
     "elapsed": 7195,
     "status": "ok",
     "timestamp": 1647927846360,
     "user": {
      "displayName": "Alex Aw",
      "photoUrl": "https://lh3.googleusercontent.com/a/default-user=s64",
      "userId": "00431645849901702197"
     },
     "user_tz": -480
    },
    "id": "b4XdYnoSmhmD",
    "outputId": "85bf4a27-1626-4dcd-c68e-eee9bf8dbf68"
   },
   "outputs": [
    {
     "data": {
      "text/html": [
       "\n",
       "            <div>\n",
       "                <p><b>SparkSession - in-memory</b></p>\n",
       "                \n",
       "        <div>\n",
       "            <p><b>SparkContext</b></p>\n",
       "\n",
       "            <p><a href=\"http://d89ab56c9513:4040\">Spark UI</a></p>\n",
       "\n",
       "            <dl>\n",
       "              <dt>Version</dt>\n",
       "                <dd><code>v3.2.1</code></dd>\n",
       "              <dt>Master</dt>\n",
       "                <dd><code>local[*]</code></dd>\n",
       "              <dt>AppName</dt>\n",
       "                <dd><code>pyspark-shell</code></dd>\n",
       "            </dl>\n",
       "        </div>\n",
       "        \n",
       "            </div>\n",
       "        "
      ],
      "text/plain": [
       "<pyspark.sql.session.SparkSession at 0x7f75ea681e90>"
      ]
     },
     "execution_count": 4,
     "metadata": {},
     "output_type": "execute_result"
    }
   ],
   "source": [
    "spark = SparkSession.builder.getOrCreate()\n",
    "\n",
    "spark"
   ]
  },
  {
   "cell_type": "code",
   "execution_count": null,
   "metadata": {
    "id": "XGAYsrOXqSXO"
   },
   "outputs": [],
   "source": [
    "# spark.stop()"
   ]
  },
  {
   "cell_type": "markdown",
   "metadata": {
    "id": "lzU8E5tLxs1r"
   },
   "source": [
    "#### Loading and Prepping the data"
   ]
  },
  {
   "cell_type": "code",
   "execution_count": 5,
   "metadata": {
    "colab": {
     "base_uri": "https://localhost:8080/"
    },
    "executionInfo": {
     "elapsed": 8055,
     "status": "ok",
     "timestamp": 1647927856679,
     "user": {
      "displayName": "Alex Aw",
      "photoUrl": "https://lh3.googleusercontent.com/a/default-user=s64",
      "userId": "00431645849901702197"
     },
     "user_tz": -480
    },
    "id": "as_shaIXm093",
    "outputId": "31507b01-2528-45c2-dad9-3697a11ad6d3"
   },
   "outputs": [
    {
     "data": {
      "text/plain": [
       "['_c0',\n",
       " 'brewery_id',\n",
       " 'brewery_name',\n",
       " 'review_time',\n",
       " 'review_overall',\n",
       " 'review_aroma',\n",
       " 'review_appearance',\n",
       " 'review_profilename',\n",
       " 'beer_style',\n",
       " 'review_palate',\n",
       " 'review_taste',\n",
       " 'beer_name',\n",
       " 'beer_abv',\n",
       " 'beer_beerid']"
      ]
     },
     "execution_count": 5,
     "metadata": {},
     "output_type": "execute_result"
    }
   ],
   "source": [
    "file = \"datasets/beerReview_150kFull.csv\"\n",
    "ratings_full = spark.read.csv(file, header=True)\n",
    "ratings_full.columns"
   ]
  },
  {
   "cell_type": "code",
   "execution_count": 6,
   "metadata": {
    "colab": {
     "base_uri": "https://localhost:8080/"
    },
    "executionInfo": {
     "elapsed": 715,
     "status": "ok",
     "timestamp": 1647927863283,
     "user": {
      "displayName": "Alex Aw",
      "photoUrl": "https://lh3.googleusercontent.com/a/default-user=s64",
      "userId": "00431645849901702197"
     },
     "user_tz": -480
    },
    "id": "4OJMoD9RgHN0",
    "outputId": "f917944b-06ee-4d2a-c194-193d46a8c0f7"
   },
   "outputs": [
    {
     "name": "stdout",
     "output_type": "stream",
     "text": [
      "root\n",
      " |-- userid: string (nullable = true)\n",
      " |-- itemid: string (nullable = true)\n",
      " |-- rating: string (nullable = true)\n",
      "\n",
      "+------------+--------------------+------+\n",
      "|      userid|              itemid|rating|\n",
      "+------------+--------------------+------+\n",
      "|    Schmidts|  Black Butte Porter|   4.5|\n",
      "|     oline73|Schlafly Pumpkin Ale|   4.5|\n",
      "|   aforbes10|   Mouthy Muskie Ale|   1.0|\n",
      "|  birdman200|          Squall IPA|   4.0|\n",
      "|    Phyl21ca|Noël Christmas We...|   2.0|\n",
      "|    billybob|         Beck's Dark|   3.5|\n",
      "|       mjl21|                 ESB|   4.0|\n",
      "|     Hands22|         Grey Monday|   4.5|\n",
      "|magictrokini|Portsmouth Lupe's...|   4.0|\n",
      "| Huhzubendah|Ayinger Celebrato...|   4.5|\n",
      "+------------+--------------------+------+\n",
      "only showing top 10 rows\n",
      "\n"
     ]
    }
   ],
   "source": [
    "ratings_spdf = ratings_full.select('review_profilename','beer_name', 'review_overall')\n",
    "newcolnames = ['userid','itemid','rating']\n",
    "ratings_spdf = ratings_spdf.toDF(*newcolnames)\n",
    "ratings_spdf.printSchema()\n",
    "ratings_spdf.show(10)"
   ]
  },
  {
   "cell_type": "code",
   "execution_count": 7,
   "metadata": {
    "colab": {
     "base_uri": "https://localhost:8080/"
    },
    "executionInfo": {
     "elapsed": 300,
     "status": "ok",
     "timestamp": 1647927866949,
     "user": {
      "displayName": "Alex Aw",
      "photoUrl": "https://lh3.googleusercontent.com/a/default-user=s64",
      "userId": "00431645849901702197"
     },
     "user_tz": -480
    },
    "id": "lmsPbjpmorww",
    "outputId": "4d7ffcd4-4e6b-458e-cfd1-bf9fa495d075"
   },
   "outputs": [
    {
     "name": "stdout",
     "output_type": "stream",
     "text": [
      "root\n",
      " |-- userid: string (nullable = true)\n",
      " |-- itemid: string (nullable = true)\n",
      " |-- rating: float (nullable = true)\n",
      "\n"
     ]
    }
   ],
   "source": [
    "ratings_spdf = ratings_spdf.withColumn(\"rating\", ratings_spdf.rating.cast(\"Float\"))\n",
    "ratings_spdf.printSchema()"
   ]
  },
  {
   "cell_type": "code",
   "execution_count": 8,
   "metadata": {
    "colab": {
     "base_uri": "https://localhost:8080/"
    },
    "executionInfo": {
     "elapsed": 7054,
     "status": "ok",
     "timestamp": 1647927877635,
     "user": {
      "displayName": "Alex Aw",
      "photoUrl": "https://lh3.googleusercontent.com/a/default-user=s64",
      "userId": "00431645849901702197"
     },
     "user_tz": -480
    },
    "id": "QNdTBjRqMp_B",
    "outputId": "c7bf2171-daa8-4967-dec9-47a4a16e0f47"
   },
   "outputs": [
    {
     "name": "stdout",
     "output_type": "stream",
     "text": [
      "+---------------+--------------------+------+---------+---------+\n",
      "|         userid|              itemid|rating|userIndex|itemIndex|\n",
      "+---------------+--------------------+------+---------+---------+\n",
      "|       Schmidts|  Black Butte Porter|   4.5|   3947.0|    199.0|\n",
      "|        oline73|Schlafly Pumpkin Ale|   4.5|    322.0|   1257.0|\n",
      "|      aforbes10|   Mouthy Muskie Ale|   1.0|    296.0|  17819.0|\n",
      "|     birdman200|          Squall IPA|   4.0|   4849.0|    423.0|\n",
      "|       Phyl21ca|Noël Christmas We...|   2.0|     10.0|  10316.0|\n",
      "|       billybob|         Beck's Dark|   3.5|    809.0|    915.0|\n",
      "|          mjl21|                 ESB|   4.0|   1078.0|   1688.0|\n",
      "|        Hands22|         Grey Monday|   4.5|   7305.0|  15470.0|\n",
      "|   magictrokini|Portsmouth Lupe's...|   4.0|    307.0|  10582.0|\n",
      "|    Huhzubendah|Ayinger Celebrato...|   4.5|    174.0|     43.0|\n",
      "|    BeerPanther| Hercules Double IPA|   4.5|    848.0|    100.0|\n",
      "|     fattire513|Samuel Adams Nobl...|   5.0|   5554.0|    101.0|\n",
      "|  BuckeyeNation|     Magnum Pale Ale|   4.0|      1.0|  17331.0|\n",
      "|       Dubber55|Samuel Smith's Oa...|   4.0|   3591.0|     38.0|\n",
      "|            MAB|Sherbrooke Bad Ha...|   4.5|   1426.0|   7959.0|\n",
      "|           Offa|           Moa Blanc|   4.5|    206.0|   4185.0|\n",
      "|GratefulBeerGuy|Saranac Pomegrana...|   3.5|    173.0|   1713.0|\n",
      "|    SkeeterHawk|  Baltika #3 Classic|   2.0|    258.0|   1739.0|\n",
      "|        tr4nc3d|Hoppin' To Heaven...|   3.5|   1278.0|   1849.0|\n",
      "|       ghurux86|Brew Masters Priv...|   4.0|   3458.0|   2538.0|\n",
      "+---------------+--------------------+------+---------+---------+\n",
      "only showing top 20 rows\n",
      "\n"
     ]
    }
   ],
   "source": [
    "# Indexing UserID and ItemID\n",
    "\n",
    "userIndexer = StringIndexer(inputCol='userid', outputCol='userIndex').fit(ratings_spdf)\n",
    "itemIndexer = StringIndexer(inputCol='itemid', outputCol='itemIndex').fit(ratings_spdf)\n",
    "\n",
    "pipeline = Pipeline(stages=[userIndexer, itemIndexer])\n",
    "indexedRatings = pipeline.fit(ratings_spdf).transform(ratings_spdf)\n",
    "\n",
    "indexedRatings.show()"
   ]
  },
  {
   "cell_type": "markdown",
   "metadata": {
    "id": "JqfKk5FjV-V5"
   },
   "source": [
    "#### Training model"
   ]
  },
  {
   "cell_type": "code",
   "execution_count": 9,
   "metadata": {
    "colab": {
     "base_uri": "https://localhost:8080/"
    },
    "executionInfo": {
     "elapsed": 132330,
     "status": "ok",
     "timestamp": 1647928018101,
     "user": {
      "displayName": "Alex Aw",
      "photoUrl": "https://lh3.googleusercontent.com/a/default-user=s64",
      "userId": "00431645849901702197"
     },
     "user_tz": -480
    },
    "id": "4SqfLj5SOvhB",
    "outputId": "7d517726-bb03-4bf1-817c-d8a5f4db2074"
   },
   "outputs": [
    {
     "name": "stdout",
     "output_type": "stream",
     "text": [
      "Root Mean Sqaure Error =  0.7450735160189643\n"
     ]
    }
   ],
   "source": [
    "# test, train, split\n",
    "(training, test) = indexedRatings.randomSplit([0.7, 0.3])\n",
    "\n",
    "# train model\n",
    "als = ALS(maxIter=20, rank=40, regParam=0.25, userCol=\"userIndex\", itemCol=\"itemIndex\", ratingCol=\"rating\", coldStartStrategy=\"drop\", implicitPrefs=False)\n",
    "model = als.fit(training)\n",
    "\n",
    "# evaluate model\n",
    "predictions = model.transform(test)\n",
    "evaluator = RegressionEvaluator(metricName=\"rmse\", labelCol=\"rating\", predictionCol=\"prediction\")\n",
    "rmse = evaluator.evaluate(predictions)\n",
    "print(\"Root Mean Sqaure Error = \", rmse)\n"
   ]
  },
  {
   "cell_type": "markdown",
   "metadata": {
    "id": "nvQ0fNE8WC-I"
   },
   "source": [
    "#### Recommender List"
   ]
  },
  {
   "cell_type": "code",
   "execution_count": 10,
   "metadata": {
    "colab": {
     "base_uri": "https://localhost:8080/"
    },
    "executionInfo": {
     "elapsed": 51033,
     "status": "ok",
     "timestamp": 1647928166454,
     "user": {
      "displayName": "Alex Aw",
      "photoUrl": "https://lh3.googleusercontent.com/a/default-user=s64",
      "userId": "00431645849901702197"
     },
     "user_tz": -480
    },
    "id": "ciMeQltRUjoX",
    "outputId": "19aa85cb-aa5e-48db-cf72-47cd5062eb00"
   },
   "outputs": [
    {
     "name": "stderr",
     "output_type": "stream",
     "text": [
      "/usr/local/lib/python3.7/dist-packages/pyspark/sql/context.py:127: FutureWarning: Deprecated in 3.0.0. Use SparkSession.builder.getOrCreate() instead.\n",
      "  FutureWarning\n"
     ]
    },
    {
     "name": "stdout",
     "output_type": "stream",
     "text": [
      "+---------+--------------------+\n",
      "|userIndex|     recommendations|\n",
      "+---------+--------------------+\n",
      "|        1|[{21168, 5.152205...|\n",
      "|        3|[{21168, 4.869573...|\n",
      "|        5|[{21168, 4.785491...|\n",
      "|        6|[{21168, 5.567945...|\n",
      "|        9|[{21168, 5.161485...|\n",
      "|       12|[{21168, 5.115019...|\n",
      "|       13|[{21168, 5.218595...|\n",
      "|       15|[{21168, 4.709941...|\n",
      "|       16|[{18245, 4.992645...|\n",
      "|       17|[{21168, 5.058577...|\n",
      "+---------+--------------------+\n",
      "only showing top 10 rows\n",
      "\n",
      "+---------+--------------------+\n",
      "|itemIndex|     recommendations|\n",
      "+---------+--------------------+\n",
      "|        1|[{8144, 6.357976}...|\n",
      "|        3|[{8144, 6.3653316...|\n",
      "|        5|[{8144, 6.5584245...|\n",
      "|        6|[{8144, 6.104564}...|\n",
      "|        9|[{14080, 6.238182...|\n",
      "|       12|[{14080, 6.053038...|\n",
      "|       13|[{14080, 6.108824...|\n",
      "|       15|[{14080, 6.688264...|\n",
      "|       16|[{14080, 5.731580...|\n",
      "|       17|[{14080, 7.010308...|\n",
      "+---------+--------------------+\n",
      "only showing top 10 rows\n",
      "\n"
     ]
    }
   ],
   "source": [
    "userRecs = model.recommendForAllUsers(10)\n",
    "beerRecs = model.recommendForAllItems(10)\n",
    "\n",
    "userRecs.show(10)\n",
    "beerRecs.show(10)"
   ]
  },
  {
   "cell_type": "code",
   "execution_count": 11,
   "metadata": {
    "colab": {
     "base_uri": "https://localhost:8080/"
    },
    "executionInfo": {
     "elapsed": 23293,
     "status": "ok",
     "timestamp": 1647928310768,
     "user": {
      "displayName": "Alex Aw",
      "photoUrl": "https://lh3.googleusercontent.com/a/default-user=s64",
      "userId": "00431645849901702197"
     },
     "user_tz": -480
    },
    "id": "DzZdunafU3Sr",
    "outputId": "e9f7618b-f103-4a99-b8eb-f1a0b673d2b4"
   },
   "outputs": [
    {
     "name": "stdout",
     "output_type": "stream",
     "text": [
      "+---------+---------+---------+\n",
      "|userIndex|itemIndex|   rating|\n",
      "+---------+---------+---------+\n",
      "|        1|    21168| 5.152205|\n",
      "|        1|    18245|5.1228256|\n",
      "|        1|    19165|5.0577483|\n",
      "|        1|    10019| 5.040913|\n",
      "|        1|    20432|5.0111403|\n",
      "|        1|    13316|4.9878473|\n",
      "|        1|    15313|4.9878473|\n",
      "|        1|    18847| 4.978482|\n",
      "|        1|    20017| 4.945473|\n",
      "|        1|    12127|4.9454045|\n",
      "|        3|    21168| 4.869573|\n",
      "|        3|    18245| 4.841165|\n",
      "|        3|    19165|4.7826595|\n",
      "|        3|    10019|  4.75526|\n",
      "|        3|    20432| 4.716397|\n",
      "|        3|    13316|4.7123113|\n",
      "|        3|    15313|4.7123113|\n",
      "|        3|    12127|  4.67973|\n",
      "|        3|    20017| 4.675818|\n",
      "|        3|    18847|4.6733046|\n",
      "+---------+---------+---------+\n",
      "only showing top 20 rows\n",
      "\n"
     ]
    }
   ],
   "source": [
    "flatUserRecs = userRecs.withColumn(\"itemAndRating\", explode(userRecs.recommendations)).select(\"userIndex\", \"itemAndRating.*\")\n",
    "flatUserRecs.show()"
   ]
  },
  {
   "cell_type": "code",
   "execution_count": 12,
   "metadata": {
    "executionInfo": {
     "elapsed": 289,
     "status": "ok",
     "timestamp": 1647928349432,
     "user": {
      "displayName": "Alex Aw",
      "photoUrl": "https://lh3.googleusercontent.com/a/default-user=s64",
      "userId": "00431645849901702197"
     },
     "user_tz": -480
    },
    "id": "y5jI1twwXf6Y"
   },
   "outputs": [],
   "source": [
    "# flatItemRecs = beerRecs.withColumn(\"userAndRating\", explode(beerRecs.recommendations)).select(\"itemIndex\", \"userAndRating.*\")\n",
    "# flatItemRecs.show()"
   ]
  },
  {
   "cell_type": "code",
   "execution_count": 13,
   "metadata": {
    "colab": {
     "base_uri": "https://localhost:8080/"
    },
    "executionInfo": {
     "elapsed": 31054,
     "status": "ok",
     "timestamp": 1647928386700,
     "user": {
      "displayName": "Alex Aw",
      "photoUrl": "https://lh3.googleusercontent.com/a/default-user=s64",
      "userId": "00431645849901702197"
     },
     "user_tz": -480
    },
    "id": "_n7YjHyAV0LJ",
    "outputId": "f4f58502-002c-4d8f-d774-46f4d9806655"
   },
   "outputs": [
    {
     "name": "stdout",
     "output_type": "stream",
     "text": [
      "+-------------+--------------------+---------+\n",
      "|       userid|              itemid|   rating|\n",
      "+-------------+--------------------+---------+\n",
      "|BuckeyeNation|       Unique Singel| 5.152205|\n",
      "|BuckeyeNation|Old Combine 4-Gra...|5.1228256|\n",
      "|BuckeyeNation|           Red Storm|5.0577483|\n",
      "|BuckeyeNation|    Love (Foeder #3)| 5.040913|\n",
      "|BuckeyeNation|Strongman Belgian...|5.0111403|\n",
      "|BuckeyeNation| Buckeye Engine Mild|4.9878473|\n",
      "|BuckeyeNation|         Golden Funk|4.9878473|\n",
      "|BuckeyeNation|             Premier| 4.978482|\n",
      "|BuckeyeNation|Smuttynose Belgia...| 4.945473|\n",
      "|BuckeyeNation|Arthur's Robust P...|4.9454045|\n",
      "|    Thorpe429|       Unique Singel| 4.869573|\n",
      "|    Thorpe429|Old Combine 4-Gra...| 4.841165|\n",
      "|    Thorpe429|           Red Storm|4.7826595|\n",
      "|    Thorpe429|    Love (Foeder #3)|  4.75526|\n",
      "|    Thorpe429|Strongman Belgian...| 4.716397|\n",
      "|    Thorpe429| Buckeye Engine Mild|4.7123113|\n",
      "|    Thorpe429|         Golden Funk|4.7123113|\n",
      "|    Thorpe429|Arthur's Robust P...|  4.67973|\n",
      "|    Thorpe429|Smuttynose Belgia...| 4.675818|\n",
      "|    Thorpe429|             Premier|4.6733046|\n",
      "+-------------+--------------------+---------+\n",
      "only showing top 20 rows\n",
      "\n"
     ]
    }
   ],
   "source": [
    "userConverter = IndexToString(inputCol=\"userIndex\", outputCol=\"userid\", labels=userIndexer.labels)\n",
    "itemConverter = IndexToString(inputCol=\"itemIndex\", outputCol=\"itemid\", labels=itemIndexer.labels)\n",
    "\n",
    "convertedUserRecs = Pipeline(stages=[userConverter, itemConverter]).fit(indexedRatings).transform(flatUserRecs)\n",
    "CUR = convertedUserRecs.select(\"userid\", \"itemid\", \"rating\")\n",
    "CUR.show()"
   ]
  },
  {
   "cell_type": "code",
   "execution_count": 51,
   "metadata": {
    "colab": {
     "base_uri": "https://localhost:8080/"
    },
    "executionInfo": {
     "elapsed": 29687,
     "status": "ok",
     "timestamp": 1647932098552,
     "user": {
      "displayName": "Alex Aw",
      "photoUrl": "https://lh3.googleusercontent.com/a/default-user=s64",
      "userId": "00431645849901702197"
     },
     "user_tz": -480
    },
    "id": "7P9mb7qiBop6",
    "outputId": "a3fb7d74-e83c-4c04-9e6e-f439d73d8f93"
   },
   "outputs": [
    {
     "name": "stdout",
     "output_type": "stream",
     "text": [
      "Enter userid : Thorpe429\n",
      "\n",
      "\n",
      "Target User:Thorpe429\n",
      "****************************************\n",
      "\n",
      "Top 10 Recommended beer :\n",
      "Unique Singel\n",
      "Old Combine 4-Grain Lager\n",
      "Red Storm\n",
      "Love (Foeder #3)\n",
      "Strongman Belgian Strong Dark\n",
      "Buckeye Engine Mild\n",
      "Golden Funk\n",
      "Arthur's Robust Porter\n",
      "Smuttynose Belgian Style White Ale (Big Beer Series)\n",
      "Premier\n"
     ]
    }
   ],
   "source": [
    "# Look up userid 'davidbowers13' that had done 20 reviews previously to see what he would like.\n",
    "# To use default user, simply press enter at input value\n",
    "\n",
    "useridx = input('Enter userid : ') or 'davidbowers13'\n",
    "\n",
    "matchUser = CUR.where(CUR.userid == useridx)\n",
    "result = list(matchUser.select('itemid').toPandas()['itemid'])\n",
    "print(\"\\n\")\n",
    "print(\"Target User:\" + useridx)\n",
    "print(\"*\" * 40 + \"\\n\")\n",
    "print(\"Top 10 Recommended beer :\")\n",
    "for i in result:\n",
    "  print(i)"
   ]
  }
 ],
 "metadata": {
  "colab": {
   "collapsed_sections": [],
   "name": "BeerBelly150k_AAv2.ipynb",
   "provenance": [
    {
     "file_id": "1uDJtAeMVqZufXWP6jplBmoFn_VbGfS9p",
     "timestamp": 1647675851017
    }
   ]
  },
  "kernelspec": {
   "display_name": "Python 3 (ipykernel)",
   "language": "python",
   "name": "python3"
  },
  "language_info": {
   "codemirror_mode": {
    "name": "ipython",
    "version": 3
   },
   "file_extension": ".py",
   "mimetype": "text/x-python",
   "name": "python",
   "nbconvert_exporter": "python",
   "pygments_lexer": "ipython3",
   "version": "3.8.10"
  }
 },
 "nbformat": 4,
 "nbformat_minor": 1
}